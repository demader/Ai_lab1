{
  "nbformat": 4,
  "nbformat_minor": 0,
  "metadata": {
    "colab": {
      "provenance": [],
      "gpuType": "T4"
    },
    "kernelspec": {
      "name": "python3",
      "display_name": "Python 3"
    },
    "language_info": {
      "name": "python"
    },
    "accelerator": "GPU"
  },
  "cells": [
    {
      "cell_type": "markdown",
      "source": [
        "# To design a graph search agent and understand the use of a hash table, queue in state space search.\n"
      ],
      "metadata": {
        "id": "f14HtihFO7nu"
      }
    },
    {
      "cell_type": "markdown",
      "source": [
        "Abhishek Govind\n",
        "\n",
        "202111002\n",
        "\n",
        "Aniruddha Ajay Kajave\n",
        "\n",
        "202111006\n",
        "\n",
        "Ashutosh khatri\n",
        "\n",
        "202111014\n",
        "\n",
        "Deependra Raliya\n",
        "\n",
        "202111023\n",
        "\n",
        "Prathamesh Pawar\n",
        "\n",
        "202111062\n"
      ],
      "metadata": {
        "id": "2p8Sv55chUWj"
      }
    },
    {
      "cell_type": "code",
      "source": [
        "import numpy as np\n",
        "import sys\n",
        "from time import time"
      ],
      "metadata": {
        "id": "76slvj_DdKsC"
      },
      "execution_count": 1,
      "outputs": []
    },
    {
      "cell_type": "markdown",
      "source": [
        "# Node"
      ],
      "metadata": {
        "id": "_5y1Jjz4dnz4"
      }
    },
    {
      "cell_type": "code",
      "source": [
        "class Node:\n",
        "    def __init__(self, parent, state, pcost, hcost):\n",
        "\n",
        "        self.parent = parent\n",
        "        self.state = state\n",
        "        self.pcost = pcost\n",
        "        self.hcost = hcost\n",
        "        self.cost = pcost + hcost\n",
        "\n",
        "    def __hash__(self):\n",
        "\n",
        "        return hash(''.join(self.state.flatten()))\n",
        "\n",
        "    def __str__(self):\n",
        "        return str(self.state)\n",
        "\n",
        "    def __eq__(self, other):\n",
        "\n",
        "        return hash(''.join(self.state.flatten())) == hash(''.join(other.state.flatten()))\n",
        "\n",
        "    def __ne__(self, other):\n",
        "        return hash(''.join(self.state.flatten())) != hash(''.join(other.state.flatten()))"
      ],
      "metadata": {
        "id": "n94OndHGdXmq"
      },
      "execution_count": 2,
      "outputs": []
    },
    {
      "cell_type": "markdown",
      "source": [
        "# Priority"
      ],
      "metadata": {
        "id": "y35sA5Vkduvq"
      }
    },
    {
      "cell_type": "code",
      "source": [
        "class PriorityQueue():\n",
        "\n",
        "    def __init__(self):\n",
        "        self.queue = []\n",
        "\n",
        "    def push(self, node):\n",
        "        self.queue.append(node)\n",
        "\n",
        "    def pop(self):\n",
        "\n",
        "        next_state = None\n",
        "        state_cost = 10**18\n",
        "        index = -1\n",
        "\n",
        "        for i in range(len(self.queue)):\n",
        "\n",
        "            if self.queue[i].cost<state_cost:\n",
        "                state_cost = self.queue[i].cost\n",
        "                index = i\n",
        "\n",
        "        return self.queue.pop(index)\n",
        "\n",
        "    def is_empty(self):\n",
        "\n",
        "        return len(self.queue)==0\n",
        "\n",
        "    def __str__(self):\n",
        "        l = []\n",
        "        for i in self.queue:\n",
        "            l.append(i.state)\n",
        "\n",
        "        return str(l)\n",
        "\n",
        "    def __len__(self):\n",
        "        return len(self.queue)"
      ],
      "metadata": {
        "id": "y1RnGY-heKgg"
      },
      "execution_count": 3,
      "outputs": []
    },
    {
      "cell_type": "markdown",
      "source": [
        "# Environment\n",
        "\n",
        "The environment is what the agent plays in. It has the following entities:\n",
        "\n",
        "1.  actions : The actions defined in the environment\n",
        "2.  depth: the maximum depth of the solution\n",
        "3.  goal_state : The goal state of the environment\n",
        "4.  start_state : The start state generated at the depth\n",
        "\n",
        "\n",
        "It has the following functions:\n",
        "\n",
        "1. get_start_state : returns the start state\n",
        "\n",
        "2. reached_goal : returns goal_state\n",
        "3. get_next_states : Given current state, it returns all possible next states\n",
        "4. generate_start_state : Given goal state and depth d, performs d moves to\n",
        "  generate a start state"
      ],
      "metadata": {
        "id": "kED0l4QOed_K"
      }
    },
    {
      "cell_type": "code",
      "source": [
        "class Environment():\n",
        "\n",
        "    def __init__(self, depth = None, goal_state = None):\n",
        "        self.actions = [1,2,3,4] #1 - Up, 2 - Down, 3 - Right, 4 - Left\n",
        "        self.goal_state = goal_state\n",
        "        self.depth = depth\n",
        "        self.start_state = self.generate_start_state()\n",
        "\n",
        "    def generate_start_state(self):\n",
        "\n",
        "        past_state = self.goal_state\n",
        "        i=0\n",
        "        while i!= self.depth:\n",
        "            new_states = self.get_next_states(past_state)\n",
        "            choice = np.random.randint(low=0, high=len(new_states))\n",
        "\n",
        "            if np.array_equal(new_states[choice], past_state):\n",
        "                continue\n",
        "\n",
        "            past_state = new_states[choice]\n",
        "            i+=1\n",
        "\n",
        "        return past_state\n",
        "\n",
        "    def get_start_state(self):\n",
        "        return self.start_state\n",
        "\n",
        "    def get_goal_state(self):\n",
        "        return self.goal_state\n",
        "\n",
        "    def get_next_states(self, state):\n",
        "\n",
        "        space = (0,0)\n",
        "        for i in range(3):\n",
        "            for j in range(3):\n",
        "                if state[i,j] == '_':\n",
        "                    space = (i,j)\n",
        "                    break\n",
        "\n",
        "        new_states = []\n",
        "\n",
        "        if space[0] > 0:# Move Up\n",
        "            new_state = np.copy(state)\n",
        "\n",
        "            val = new_state[space[0], space[1]]\n",
        "            new_state[space[0], space[1]]  = new_state[space[0]-1, space[1]]\n",
        "            new_state[space[0]-1, space[1]] = val\n",
        "\n",
        "            new_states.append(new_state)\n",
        "\n",
        "        if space[0] < 2: #Move down\n",
        "            new_state = np.copy(state)\n",
        "\n",
        "            val = new_state[space[0], space[1]]\n",
        "            new_state[space[0], space[1]]  = new_state[space[0]+1, space[1]]\n",
        "            new_state[space[0]+1, space[1]] = val\n",
        "\n",
        "            new_states.append(new_state)\n",
        "\n",
        "        if space[1]<2: #Move right\n",
        "            new_state = np.copy(state)\n",
        "\n",
        "            val = new_state[space[0], space[1]]\n",
        "            new_state[space[0], space[1]] = new_state[space[0], space[1]+1]\n",
        "            new_state[space[0], space[1]+1] = val\n",
        "\n",
        "            new_states.append(new_state)\n",
        "\n",
        "        if space[1] > 0: #Move Left\n",
        "            new_state = np.copy(state)\n",
        "\n",
        "            val = new_state[space[0], space[1]]\n",
        "            new_state[space[0], space[1]] = new_state[space[0], space[1]-1]\n",
        "            new_state[space[0], space[1]-1] = val\n",
        "\n",
        "            new_states.append(new_state)\n",
        "\n",
        "        return new_states\n",
        "\n",
        "    def reached_goal(self, state):\n",
        "\n",
        "        for i in range(3):\n",
        "            for j in range(3):\n",
        "                if state[i,j] != self.goal_state[i,j]:\n",
        "                    return False\n",
        "\n",
        "        return True"
      ],
      "metadata": {
        "id": "PSJyxSm_fX7-"
      },
      "execution_count": 4,
      "outputs": []
    },
    {
      "cell_type": "markdown",
      "source": [
        "# Agent"
      ],
      "metadata": {
        "id": "HmolAtfAfm1f"
      }
    },
    {
      "cell_type": "code",
      "source": [
        "class Agent:\n",
        "\n",
        "    def __init__(self, env, heuristic):\n",
        "        self.frontier = PriorityQueue()\n",
        "        self.explored = dict()\n",
        "        self.start_state = env.get_start_state()\n",
        "        self.goal_state = env.get_goal_state()\n",
        "        self.env = env\n",
        "        self.goal_node = None\n",
        "        self.heuristic = heuristic\n",
        "\n",
        "    def run(self):\n",
        "        init_node = Node(parent = None, state = self.start_state, pcost = 0, hcost=0)\n",
        "        self.frontier.push(init_node)\n",
        "        steps = 0\n",
        "        while not self.frontier.is_empty():\n",
        "\n",
        "            curr_node = self.frontier.pop()\n",
        "            #print(curr_node.cost)\n",
        "            next_states = self.env.get_next_states(curr_node.state)\n",
        "\n",
        "            if hash(curr_node) in self.explored:\n",
        "                continue\n",
        "\n",
        "            self.explored[hash(curr_node)] = curr_node\n",
        "\n",
        "            if self.env.reached_goal(curr_node.state):\n",
        "                #print(\"Reached goal!\")\n",
        "                self.goal_node = curr_node\n",
        "                break\n",
        "            goal_state = self.env.get_goal_state()\n",
        "\n",
        "            l = []\n",
        "            for state in next_states:\n",
        "\n",
        "                hcost = self.heuristic(state, goal_state)\n",
        "                node = Node(parent=curr_node, state=state, pcost=curr_node.pcost+1, hcost=hcost)\n",
        "                self.frontier.push(node)\n",
        "            steps += 1\n",
        "\n",
        "\n",
        "        return steps, self.soln_depth()\n",
        "\n",
        "    def soln_depth(self):\n",
        "        node = self.goal_node\n",
        "        count = 0\n",
        "        while node is not None:\n",
        "            node = node.parent\n",
        "            count+=1\n",
        "\n",
        "        return count\n",
        "\n",
        "    def print_nodes(self):\n",
        "\n",
        "        node = self.goal_node\n",
        "        l = []\n",
        "        while node is not None:\n",
        "            l.append(node)\n",
        "            node = node.parent\n",
        "\n",
        "        step = 1\n",
        "        for node in l[::-1]:\n",
        "            print(\"Step: \",step)\n",
        "            print(node)\n",
        "            step+=1\n",
        "\n",
        "    def get_memory(self):\n",
        "\n",
        "        mem = len(self.frontier)*56 + len(self.explored)*56\n",
        "        return mem"
      ],
      "metadata": {
        "id": "bYMifDn5fhoN"
      },
      "execution_count": 5,
      "outputs": []
    },
    {
      "cell_type": "markdown",
      "source": [
        "# Heuristic 0\n",
        "\n",
        "This is a null heuristic, returns 0 for any state. Essentially uniform cost search."
      ],
      "metadata": {
        "id": "jhoNUKj3fzDd"
      }
    },
    {
      "cell_type": "code",
      "source": [
        "def heuristic0(curr_state, goal_state):\n",
        "    return 0"
      ],
      "metadata": {
        "id": "2ovnRt_Vf3Uf"
      },
      "execution_count": 6,
      "outputs": []
    },
    {
      "cell_type": "markdown",
      "source": [
        "# Heuristic 1\n",
        "\n",
        "This heuristic counts the number of misplaced tiles"
      ],
      "metadata": {
        "id": "zvwQ87D5f8OX"
      }
    },
    {
      "cell_type": "code",
      "source": [
        "def heuristic1(curr_state, goal_state):\n",
        "\n",
        "    count = 0\n",
        "    for i in range(3):\n",
        "        for j in range(3):\n",
        "            if curr_state[i, j]!=goal_state[i,j]:\n",
        "                count+=1\n",
        "\n",
        "    return count"
      ],
      "metadata": {
        "id": "9Hn1D6D_f_xa"
      },
      "execution_count": 7,
      "outputs": []
    },
    {
      "cell_type": "markdown",
      "source": [
        "# Heuristic 2\n",
        "\n",
        "This is the manhattan distance, it returns the sum of the horizontal and vertical distances of the all marble in current state from center."
      ],
      "metadata": {
        "id": "7PEi0fs_gPCc"
      }
    },
    {
      "cell_type": "code",
      "source": [
        "def heuristic2(curr_state, goal_state):\n",
        "\n",
        "    dist = 0\n",
        "\n",
        "    for i in range(3):\n",
        "        for j in range(3):\n",
        "            ele = curr_state[i, j]\n",
        "            goal_i, goal_j = np.where(goal_state==ele)\n",
        "            d = abs(goal_i[0] - i) + abs(goal_j[0] - j)\n",
        "            dist += d\n",
        "\n",
        "    return dist\n",
        "\n",
        "depth = 1000\n",
        "goal_state = np.array([[1,2,3], [8,'_',4], [7,6,5]])\n",
        "env = Environment(depth, goal_state)\n",
        "print(\"Start State: \")\n",
        "print(env.get_start_state())\n",
        "print(\"Goal State: \")\n",
        "print(goal_state)"
      ],
      "metadata": {
        "id": "C3I7ZgXcgbOE",
        "colab": {
          "base_uri": "https://localhost:8080/"
        },
        "outputId": "17fb35ef-29b2-46b2-ee06-46614262ff67"
      },
      "execution_count": 8,
      "outputs": [
        {
          "output_type": "stream",
          "name": "stdout",
          "text": [
            "Start State: \n",
            "[['1' '2' '3']\n",
            " ['5' '_' '6']\n",
            " ['7' '4' '8']]\n",
            "Goal State: \n",
            "[['1' '2' '3']\n",
            " ['8' '_' '4']\n",
            " ['7' '6' '5']]\n"
          ]
        }
      ]
    },
    {
      "cell_type": "code",
      "source": [
        "agent = Agent(env = env, heuristic = heuristic2)"
      ],
      "metadata": {
        "id": "fsPe3iW0gkcC"
      },
      "execution_count": 9,
      "outputs": []
    },
    {
      "cell_type": "code",
      "source": [
        "agent.run()"
      ],
      "metadata": {
        "id": "_Zbc-hfsgk-o",
        "colab": {
          "base_uri": "https://localhost:8080/"
        },
        "outputId": "717e874b-8f38-465b-eae7-5fbd23b80042"
      },
      "execution_count": 10,
      "outputs": [
        {
          "output_type": "execute_result",
          "data": {
            "text/plain": [
              "(100, 15)"
            ]
          },
          "metadata": {},
          "execution_count": 10
        }
      ]
    },
    {
      "cell_type": "code",
      "source": [
        "depths = np.arange(0,501,50)\n",
        "goal_state = np.array([[1,2,3], [8,'_',4], [7,6,5]])\n",
        "times_taken = {}\n",
        "mems = {}\n",
        "print(\"Depth    Time Taken           Memory\")\n",
        "for depth in depths:\n",
        "\n",
        "    time_taken = 0\n",
        "    mem = 0\n",
        "    for i in range(50):\n",
        "        env = Environment(depth=depth, goal_state=goal_state)\n",
        "        agent = Agent(env = env, heuristic = heuristic2)\n",
        "        start_time = time()\n",
        "        agent.run()\n",
        "        end_time = time()\n",
        "        time_taken+=end_time - start_time\n",
        "        mem+=agent.get_memory()\n",
        "\n",
        "    time_taken/=50\n",
        "    mem = mem/50\n",
        "    times_taken[depth] = time_taken\n",
        "    mems[depth] = mem\n",
        "    print(\"|\"+ str(depth) + \"    |\"+ str(time_taken)+\"|\"+ str(mem))"
      ],
      "metadata": {
        "id": "ivfZ71-RgnK_",
        "colab": {
          "base_uri": "https://localhost:8080/"
        },
        "outputId": "8aebb974-cb2f-4878-86a7-6a364d25da95"
      },
      "execution_count": 11,
      "outputs": [
        {
          "output_type": "stream",
          "name": "stdout",
          "text": [
            "Depth    Time Taken           Memory\n",
            "|0    |6.438255310058594e-05|56.0\n",
            "|50    |0.028498220443725585|12405.12\n",
            "|100    |0.4139525842666626|84064.96\n",
            "|150    |0.3347080945968628|96966.24\n",
            "|200    |0.6674720573425293|161982.24\n",
            "|250    |0.7103114938735962|139144.32\n",
            "|300    |0.3101259899139404|102651.36\n",
            "|350    |0.5319684886932373|113520.96\n",
            "|400    |0.3621537733078003|116921.28\n",
            "|450    |0.4357582139968872|123103.68\n",
            "|500    |0.6347683525085449|130100.32\n"
          ]
        }
      ]
    }
  ]
}